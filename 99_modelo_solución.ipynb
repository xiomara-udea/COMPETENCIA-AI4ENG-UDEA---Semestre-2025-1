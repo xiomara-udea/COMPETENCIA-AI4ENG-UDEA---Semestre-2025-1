{
  "nbformat": 4,
  "nbformat_minor": 0,
  "metadata": {
    "colab": {
      "provenance": [],
      "authorship_tag": "ABX9TyOY22XuHy0c0nQBpB8pHEr+",
      "include_colab_link": true
    },
    "kernelspec": {
      "name": "python3",
      "display_name": "Python 3"
    },
    "language_info": {
      "name": "python"
    }
  },
  "cells": [
    {
      "cell_type": "markdown",
      "metadata": {
        "id": "view-in-github",
        "colab_type": "text"
      },
      "source": [
        "<a href=\"https://colab.research.google.com/github/xiomara-udea/COMPETENCIA-AI4ENG-UDEA---Semestre-2025-1/blob/main/99_modelo_soluci%C3%B3n.ipynb\" target=\"_parent\"><img src=\"https://colab.research.google.com/assets/colab-badge.svg\" alt=\"Open In Colab\"/></a>"
      ]
    },
    {
      "cell_type": "code",
      "execution_count": null,
      "metadata": {
        "colab": {
          "base_uri": "https://localhost:8080/",
          "height": 76
        },
        "id": "8oR0W7Iw7ciQ",
        "outputId": "98d542d7-e801-4fc9-9dee-bb1a4143227e"
      },
      "outputs": [
        {
          "output_type": "display_data",
          "data": {
            "text/plain": [
              "<IPython.core.display.HTML object>"
            ],
            "text/html": [
              "\n",
              "<meta name=\"google-signin-client_id\"\n",
              "      content=\"461673936472-kdjosv61up3ac1ajeuq6qqu72upilmls.apps.googleusercontent.com\"/>\n",
              "<script src=\"https://apis.google.com/js/client:platform.js?onload=google_button_start\"></script>\n",
              "    "
            ]
          },
          "metadata": {}
        },
        {
          "output_type": "stream",
          "name": "stdout",
          "text": [
            "replicating local resources\n"
          ]
        },
        {
          "output_type": "execute_result",
          "data": {
            "text/plain": [
              "<IPython.core.display.HTML object>"
            ],
            "text/html": [
              "<h3>See <a href='https://m5knaekxo6.execute-api.us-west-2.amazonaws.com/dev-v0001/rlxmooc/web/login' target='_blank'>my courses and progress</a></h2>"
            ]
          },
          "metadata": {},
          "execution_count": 5
        }
      ],
      "source": [
        "!wget --no-cache -O init.py -q https://raw.githubusercontent.com/rramosp/ai4eng.v1/main/content/init.py\n",
        "import init; init.init(force_download=False); init.get_weblink()"
      ]
    },
    {
      "cell_type": "code",
      "execution_count": null,
      "metadata": {
        "id": "gp2HXwMM7MVM"
      },
      "outputs": [],
      "source": [
        "import pandas as pd\n",
        "import numpy as np\n",
        "from sklearn.model_selection import cross_val_score\n",
        "import xgboost as xgb"
      ]
    },
    {
      "cell_type": "code",
      "source": [
        "from google.colab import files\n",
        "files.upload()"
      ],
      "metadata": {
        "colab": {
          "base_uri": "https://localhost:8080/",
          "height": 91
        },
        "collapsed": true,
        "id": "s3-I7PMjXdzB",
        "outputId": "55a1b173-7a27-492b-b851-a313575399a0"
      },
      "execution_count": null,
      "outputs": [
        {
          "output_type": "display_data",
          "data": {
            "text/plain": [
              "<IPython.core.display.HTML object>"
            ],
            "text/html": [
              "\n",
              "     <input type=\"file\" id=\"files-89830bbd-1ca2-4df6-a926-0785011b0d16\" name=\"files[]\" multiple disabled\n",
              "        style=\"border:none\" />\n",
              "     <output id=\"result-89830bbd-1ca2-4df6-a926-0785011b0d16\">\n",
              "      Upload widget is only available when the cell has been executed in the\n",
              "      current browser session. Please rerun this cell to enable.\n",
              "      </output>\n",
              "      <script>// Copyright 2017 Google LLC\n",
              "//\n",
              "// Licensed under the Apache License, Version 2.0 (the \"License\");\n",
              "// you may not use this file except in compliance with the License.\n",
              "// You may obtain a copy of the License at\n",
              "//\n",
              "//      http://www.apache.org/licenses/LICENSE-2.0\n",
              "//\n",
              "// Unless required by applicable law or agreed to in writing, software\n",
              "// distributed under the License is distributed on an \"AS IS\" BASIS,\n",
              "// WITHOUT WARRANTIES OR CONDITIONS OF ANY KIND, either express or implied.\n",
              "// See the License for the specific language governing permissions and\n",
              "// limitations under the License.\n",
              "\n",
              "/**\n",
              " * @fileoverview Helpers for google.colab Python module.\n",
              " */\n",
              "(function(scope) {\n",
              "function span(text, styleAttributes = {}) {\n",
              "  const element = document.createElement('span');\n",
              "  element.textContent = text;\n",
              "  for (const key of Object.keys(styleAttributes)) {\n",
              "    element.style[key] = styleAttributes[key];\n",
              "  }\n",
              "  return element;\n",
              "}\n",
              "\n",
              "// Max number of bytes which will be uploaded at a time.\n",
              "const MAX_PAYLOAD_SIZE = 100 * 1024;\n",
              "\n",
              "function _uploadFiles(inputId, outputId) {\n",
              "  const steps = uploadFilesStep(inputId, outputId);\n",
              "  const outputElement = document.getElementById(outputId);\n",
              "  // Cache steps on the outputElement to make it available for the next call\n",
              "  // to uploadFilesContinue from Python.\n",
              "  outputElement.steps = steps;\n",
              "\n",
              "  return _uploadFilesContinue(outputId);\n",
              "}\n",
              "\n",
              "// This is roughly an async generator (not supported in the browser yet),\n",
              "// where there are multiple asynchronous steps and the Python side is going\n",
              "// to poll for completion of each step.\n",
              "// This uses a Promise to block the python side on completion of each step,\n",
              "// then passes the result of the previous step as the input to the next step.\n",
              "function _uploadFilesContinue(outputId) {\n",
              "  const outputElement = document.getElementById(outputId);\n",
              "  const steps = outputElement.steps;\n",
              "\n",
              "  const next = steps.next(outputElement.lastPromiseValue);\n",
              "  return Promise.resolve(next.value.promise).then((value) => {\n",
              "    // Cache the last promise value to make it available to the next\n",
              "    // step of the generator.\n",
              "    outputElement.lastPromiseValue = value;\n",
              "    return next.value.response;\n",
              "  });\n",
              "}\n",
              "\n",
              "/**\n",
              " * Generator function which is called between each async step of the upload\n",
              " * process.\n",
              " * @param {string} inputId Element ID of the input file picker element.\n",
              " * @param {string} outputId Element ID of the output display.\n",
              " * @return {!Iterable<!Object>} Iterable of next steps.\n",
              " */\n",
              "function* uploadFilesStep(inputId, outputId) {\n",
              "  const inputElement = document.getElementById(inputId);\n",
              "  inputElement.disabled = false;\n",
              "\n",
              "  const outputElement = document.getElementById(outputId);\n",
              "  outputElement.innerHTML = '';\n",
              "\n",
              "  const pickedPromise = new Promise((resolve) => {\n",
              "    inputElement.addEventListener('change', (e) => {\n",
              "      resolve(e.target.files);\n",
              "    });\n",
              "  });\n",
              "\n",
              "  const cancel = document.createElement('button');\n",
              "  inputElement.parentElement.appendChild(cancel);\n",
              "  cancel.textContent = 'Cancel upload';\n",
              "  const cancelPromise = new Promise((resolve) => {\n",
              "    cancel.onclick = () => {\n",
              "      resolve(null);\n",
              "    };\n",
              "  });\n",
              "\n",
              "  // Wait for the user to pick the files.\n",
              "  const files = yield {\n",
              "    promise: Promise.race([pickedPromise, cancelPromise]),\n",
              "    response: {\n",
              "      action: 'starting',\n",
              "    }\n",
              "  };\n",
              "\n",
              "  cancel.remove();\n",
              "\n",
              "  // Disable the input element since further picks are not allowed.\n",
              "  inputElement.disabled = true;\n",
              "\n",
              "  if (!files) {\n",
              "    return {\n",
              "      response: {\n",
              "        action: 'complete',\n",
              "      }\n",
              "    };\n",
              "  }\n",
              "\n",
              "  for (const file of files) {\n",
              "    const li = document.createElement('li');\n",
              "    li.append(span(file.name, {fontWeight: 'bold'}));\n",
              "    li.append(span(\n",
              "        `(${file.type || 'n/a'}) - ${file.size} bytes, ` +\n",
              "        `last modified: ${\n",
              "            file.lastModifiedDate ? file.lastModifiedDate.toLocaleDateString() :\n",
              "                                    'n/a'} - `));\n",
              "    const percent = span('0% done');\n",
              "    li.appendChild(percent);\n",
              "\n",
              "    outputElement.appendChild(li);\n",
              "\n",
              "    const fileDataPromise = new Promise((resolve) => {\n",
              "      const reader = new FileReader();\n",
              "      reader.onload = (e) => {\n",
              "        resolve(e.target.result);\n",
              "      };\n",
              "      reader.readAsArrayBuffer(file);\n",
              "    });\n",
              "    // Wait for the data to be ready.\n",
              "    let fileData = yield {\n",
              "      promise: fileDataPromise,\n",
              "      response: {\n",
              "        action: 'continue',\n",
              "      }\n",
              "    };\n",
              "\n",
              "    // Use a chunked sending to avoid message size limits. See b/62115660.\n",
              "    let position = 0;\n",
              "    do {\n",
              "      const length = Math.min(fileData.byteLength - position, MAX_PAYLOAD_SIZE);\n",
              "      const chunk = new Uint8Array(fileData, position, length);\n",
              "      position += length;\n",
              "\n",
              "      const base64 = btoa(String.fromCharCode.apply(null, chunk));\n",
              "      yield {\n",
              "        response: {\n",
              "          action: 'append',\n",
              "          file: file.name,\n",
              "          data: base64,\n",
              "        },\n",
              "      };\n",
              "\n",
              "      let percentDone = fileData.byteLength === 0 ?\n",
              "          100 :\n",
              "          Math.round((position / fileData.byteLength) * 100);\n",
              "      percent.textContent = `${percentDone}% done`;\n",
              "\n",
              "    } while (position < fileData.byteLength);\n",
              "  }\n",
              "\n",
              "  // All done.\n",
              "  yield {\n",
              "    response: {\n",
              "      action: 'complete',\n",
              "    }\n",
              "  };\n",
              "}\n",
              "\n",
              "scope.google = scope.google || {};\n",
              "scope.google.colab = scope.google.colab || {};\n",
              "scope.google.colab._files = {\n",
              "  _uploadFiles,\n",
              "  _uploadFilesContinue,\n",
              "};\n",
              "})(self);\n",
              "</script> "
            ]
          },
          "metadata": {}
        },
        {
          "output_type": "stream",
          "name": "stdout",
          "text": [
            "Saving kaggle.json to kaggle.json\n"
          ]
        },
        {
          "output_type": "execute_result",
          "data": {
            "text/plain": [
              "{'kaggle.json': b'{\"username\":\"xiomaraperezudea\",\"key\":\"c7779ed01610d092aea8f2d5f696098f\"}'}"
            ]
          },
          "metadata": {},
          "execution_count": 7
        }
      ]
    },
    {
      "cell_type": "code",
      "source": [
        "!mkdir -p ~/.kaggle\n",
        "!cp kaggle.json ~/.kaggle/\n",
        "!chmod 600 ~/.kaggle/kaggle.json"
      ],
      "metadata": {
        "id": "f-RuO9mxTZFg"
      },
      "execution_count": null,
      "outputs": []
    },
    {
      "cell_type": "code",
      "execution_count": null,
      "metadata": {
        "id": "nSz7rKIOjhsy",
        "colab": {
          "base_uri": "https://localhost:8080/"
        },
        "collapsed": true,
        "outputId": "95c5d7b4-b6e0-4a13-bc9e-98eb592c71d8"
      },
      "outputs": [
        {
          "output_type": "stream",
          "name": "stdout",
          "text": [
            "Downloading udea-ai-4-eng-20251-pruebas-saber-pro-colombia.zip to /content\n",
            "\r  0% 0.00/29.9M [00:00<?, ?B/s]\n",
            "\r100% 29.9M/29.9M [00:00<00:00, 1.08GB/s]\n"
          ]
        }
      ],
      "source": [
        "!kaggle competitions download -c udea-ai-4-eng-20251-pruebas-saber-pro-colombia"
      ]
    },
    {
      "cell_type": "code",
      "source": [
        "!unzip -l udea-ai-4-eng-20251-pruebas-saber-pro-colombia.zip"
      ],
      "metadata": {
        "colab": {
          "base_uri": "https://localhost:8080/"
        },
        "id": "xg2BLg1iVJyy",
        "outputId": "ba0c870a-98e4-4d4f-a3aa-89704f195ab5",
        "collapsed": true
      },
      "execution_count": null,
      "outputs": [
        {
          "output_type": "stream",
          "name": "stdout",
          "text": [
            "Archive:  udea-ai-4-eng-20251-pruebas-saber-pro-colombia.zip\n",
            "  Length      Date    Time    Name\n",
            "---------  ---------- -----   ----\n",
            "  4716673  2025-03-25 16:54   submission_example.csv\n",
            " 59185250  2025-03-25 16:54   test.csv\n",
            "143732449  2025-03-25 16:54   train.csv\n",
            "---------                     -------\n",
            "207634372                     3 files\n"
          ]
        }
      ]
    },
    {
      "cell_type": "code",
      "source": [
        "!unzip udea-ai-4-eng-20251-pruebas-saber-pro-colombia.zip"
      ],
      "metadata": {
        "colab": {
          "base_uri": "https://localhost:8080/"
        },
        "id": "XdMsFB5OVcb9",
        "outputId": "7ff771af-5e2c-4f30-c4e3-cbe22b3085a3",
        "collapsed": true
      },
      "execution_count": null,
      "outputs": [
        {
          "output_type": "stream",
          "name": "stdout",
          "text": [
            "Archive:  udea-ai-4-eng-20251-pruebas-saber-pro-colombia.zip\n",
            "  inflating: submission_example.csv  \n",
            "  inflating: test.csv                \n",
            "  inflating: train.csv               \n"
          ]
        }
      ]
    },
    {
      "cell_type": "code",
      "source": [
        "dtr = pd.read_csv(\"train.csv\")\n",
        "print (dtr.shape)\n",
        "dts = pd.read_csv(\"test.csv\")\n",
        "print (dts.shape)"
      ],
      "metadata": {
        "colab": {
          "base_uri": "https://localhost:8080/"
        },
        "id": "gor_nmk9PYug",
        "outputId": "0ae7676b-2fa4-4e6a-dac6-572b6672e079"
      },
      "execution_count": null,
      "outputs": [
        {
          "output_type": "stream",
          "name": "stdout",
          "text": [
            "(692500, 21)\n",
            "(296786, 20)\n"
          ]
        }
      ]
    },
    {
      "cell_type": "code",
      "source": [
        "from sklearn.preprocessing import MinMaxScaler, StandardScaler\n",
        "import pandas as pd\n",
        "import numpy as np\n",
        "\n",
        "class SaberProCleaner:\n",
        "    def __init__(self, scaler_type='minmax'):\n",
        "        # Elegir escalador\n",
        "        if scaler_type == 'standard':\n",
        "            self.scaler = StandardScaler()\n",
        "        else:\n",
        "            self.scaler = MinMaxScaler()\n",
        "\n",
        "        self.columnas_onehot = ['PERIODO', 'ESTU_PRGM_DEPARTAMENTO', 'AREA_ACADEMICA']\n",
        "        self.columns_after_onehot = None\n",
        "        self.columnas_a_normalizar = ['ESTU_VALORMATRICULAUNIVERSIDAD_num', 'ESTU_HORASSEMANATRABAJA_num']\n",
        "\n",
        "        self.mapa_valormatricula = {\n",
        "            'Menos de 500 mil': 250_000,\n",
        "            'Entre 500 mil y menos de 1 millón': 750_000,\n",
        "            'Entre 1 millón y menos de 2.5 millones': 1_750_000,\n",
        "            'Entre 2.5 millones y menos de 4 millones': 3_250_000,\n",
        "            'Entre 4 millones y menos de 5.5 millones': 4_750_000,\n",
        "            'Entre 5.5 millones y menos de 7 millones': 6_250_000,\n",
        "            'Más de 7 millones': 8_000_000,\n",
        "            'No pagó matrícula': 0\n",
        "        }\n",
        "\n",
        "        self.mapa_horas_trabajo = {\n",
        "            '0': 0,\n",
        "            'Menos de 10 horas': 5,\n",
        "            'Entre 10 y 20 horas': 15,\n",
        "            'Entre 21 y 30 horas': 25,\n",
        "            'Más de 30 horas': 35\n",
        "        }\n",
        "\n",
        "        self.binarios_bool = {\n",
        "            'FAMI_TIENEINTERNET': {'Si': True, 'No': False},\n",
        "            'FAMI_TIENELAVADORA': {'Si': True, 'No': False},\n",
        "            'FAMI_TIENEAUTOMOVIL': {'Si': True, 'No': False},\n",
        "            'ESTU_PRIVADO_LIBERTAD': {'S': True, 'N': False},\n",
        "            'ESTU_PAGOMATRICULAPROPIO': {'Si': True, 'No': False},\n",
        "            'FAMI_TIENECOMPUTADOR': {'Si': True, 'No': False}\n",
        "        }\n",
        "\n",
        "        self.educacion_orden = {\n",
        "            'Ninguno': 1,\n",
        "            'Primaria incompleta': 2,\n",
        "            'Primaria completa': 3,\n",
        "            'Secundaria (Bachillerato) incompleta': 4,\n",
        "            'Secundaria (Bachillerato) completa': 5,\n",
        "            'Técnica o tecnológica incompleta': 6,\n",
        "            'Técnica o tecnológica completa': 7,\n",
        "            'Educación profesional incompleta': 8,\n",
        "            'Educación profesional completa': 9,\n",
        "            'Postgrado': 10\n",
        "        }\n",
        "\n",
        "        self.rendimiento_orden = {\n",
        "            'bajo': 1,\n",
        "            'medio-bajo': 2,\n",
        "            'medio-alto': 3,\n",
        "            'alto': 4\n",
        "        }\n",
        "\n",
        "    def limpiar_programa(self, texto):\n",
        "        if pd.isnull(texto): return texto\n",
        "        texto = texto.upper().strip()\n",
        "        texto = (texto.replace('Á','A').replace('É','E').replace('Í','I')\n",
        "                      .replace('Ó','O').replace('Ú','U').replace('Ñ','N')\n",
        "                      .replace('¿','').replace('¡','').replace('.', '')\n",
        "                      .replace('-', ' ').replace('_', ' '))\n",
        "        while '  ' in texto:\n",
        "            texto = texto.replace('  ', ' ')\n",
        "        return texto\n",
        "\n",
        "    def clasificar_area(self, programa):\n",
        "        programa = programa.upper()\n",
        "        if any(p in programa for p in ['INGENIERIA', 'INGENIERÍA']):\n",
        "            return 'Ingenierías'\n",
        "        elif any(p in programa for p in ['MEDICINA', 'ENFERMERIA', 'SALUD', 'FISIOTERAPIA', 'ODONTOLOGIA', 'NUTRICION', 'TERAPIA']):\n",
        "            return 'Salud'\n",
        "        elif any(p in programa for p in ['DERECHO']):\n",
        "            return 'Derecho'\n",
        "        elif any(p in programa for p in ['ADMINISTRACION', 'CONTADURIA', 'ECONOMIA']):\n",
        "            return 'Económico-administrativas'\n",
        "        elif any(p in programa for p in ['BIOLOGIA', 'FISICA', 'QUIMICA', 'MATEMATICA']):\n",
        "            return 'Ciencias Básicas'\n",
        "        elif any(p in programa for p in ['PSICOLOGIA', 'SOCIOLOGIA', 'TRABAJO SOCIAL']):\n",
        "            return 'Ciencias Sociales y Humanas'\n",
        "        elif any(p in programa for p in ['ARTES', 'DISEÑO', 'MUSICA']):\n",
        "            return 'Artes'\n",
        "        elif any(p in programa for p in ['LICENCIATURA', 'EDUCACION']):\n",
        "            return 'Educación'\n",
        "        elif any(p in programa for p in ['COMUNICACION']):\n",
        "            return 'Comunicación'\n",
        "        elif any(p in programa for p in ['AGRONOMIA', 'VETERINARIA']):\n",
        "            return 'Agropecuarias y Medio Ambiente'\n",
        "        else:\n",
        "            return 'Otras'\n",
        "\n",
        "    def fit_transform(self, df):\n",
        "        return self._transform(df.copy(), fit_scaler=True)\n",
        "\n",
        "    def transform(self, df):\n",
        "        return self._transform(df.copy(), fit_scaler=False)\n",
        "\n",
        "    def _transform(self, df, fit_scaler):\n",
        "        df = df.drop(columns=['FAMI_TIENEINTERNET.1'], errors='ignore')\n",
        "\n",
        "        df['ESTU_VALORMATRICULAUNIVERSIDAD_num'] = df['ESTU_VALORMATRICULAUNIVERSIDAD'].map(self.mapa_valormatricula)\n",
        "        df['ESTU_HORASSEMANATRABAJA_num'] = df['ESTU_HORASSEMANATRABAJA'].map(self.mapa_horas_trabajo)\n",
        "\n",
        "        # Imputar con mediana\n",
        "        df['ESTU_VALORMATRICULAUNIVERSIDAD_num'] = df['ESTU_VALORMATRICULAUNIVERSIDAD_num'].fillna(df['ESTU_VALORMATRICULAUNIVERSIDAD_num'].median())\n",
        "        df['ESTU_HORASSEMANATRABAJA_num'] = df['ESTU_HORASSEMANATRABAJA_num'].fillna(df['ESTU_HORASSEMANATRABAJA_num'].median())\n",
        "\n",
        "        columnas_fillna_mode = [\n",
        "            'FAMI_ESTRATOVIVIENDA',\n",
        "            'FAMI_TIENEINTERNET',\n",
        "            'FAMI_EDUCACIONPADRE',\n",
        "            'FAMI_TIENELAVADORA',\n",
        "            'FAMI_TIENEAUTOMOVIL',\n",
        "            'ESTU_PAGOMATRICULAPROPIO',\n",
        "            'FAMI_TIENECOMPUTADOR',\n",
        "            'FAMI_EDUCACIONMADRE'\n",
        "        ]\n",
        "        for col in columnas_fillna_mode:\n",
        "            if col in df.columns:\n",
        "                df[col] = df[col].fillna(df[col].mode()[0])\n",
        "\n",
        "        df['PROGRAMA_LIMPIO'] = df['ESTU_PRGM_ACADEMICO'].apply(self.limpiar_programa)\n",
        "        df['AREA_ACADEMICA'] = df['PROGRAMA_LIMPIO'].apply(self.clasificar_area)\n",
        "        df.drop(columns=['ESTU_PRGM_ACADEMICO', 'PROGRAMA_LIMPIO'], inplace=True)\n",
        "\n",
        "        for col, mapping in self.binarios_bool.items():\n",
        "            if col in df.columns:\n",
        "                df[col] = df[col].map(mapping).astype(bool)\n",
        "\n",
        "        for col in ['FAMI_EDUCACIONPADRE', 'FAMI_EDUCACIONMADRE']:\n",
        "            df[col + '_ord'] = df[col].map(self.educacion_orden)\n",
        "\n",
        "        if 'RENDIMIENTO_GLOBAL' in df.columns:\n",
        "            df['RENDIMIENTO_GLOBAL_ord'] = df['RENDIMIENTO_GLOBAL'].map(self.rendimiento_orden)\n",
        "            df.drop(columns=['RENDIMIENTO_GLOBAL'], inplace=True)\n",
        "\n",
        "        df.drop(columns=[\n",
        "            'FAMI_ESTRATOVIVIENDA',\n",
        "            'FAMI_EDUCACIONPADRE',\n",
        "            'FAMI_EDUCACIONMADRE',\n",
        "            'ESTU_VALORMATRICULAUNIVERSIDAD',\n",
        "            'ESTU_HORASSEMANATRABAJA'\n",
        "        ], errors='ignore', inplace=True)\n",
        "\n",
        "        df = pd.get_dummies(df, columns=self.columnas_onehot, dtype=bool)\n",
        "\n",
        "        if fit_scaler:\n",
        "            self.columns_after_onehot = df.columns.tolist()\n",
        "\n",
        "        if not fit_scaler:\n",
        "            for col in self.columns_after_onehot:\n",
        "                if col not in df:\n",
        "                    df[col] = False\n",
        "            df = df[self.columns_after_onehot]\n",
        "\n",
        "        scaled = self.scaler.fit_transform(df[self.columnas_a_normalizar]) if fit_scaler else self.scaler.transform(df[self.columnas_a_normalizar])\n",
        "        df_scaled = pd.DataFrame(scaled, columns=[c + '_scaled' for c in self.columnas_a_normalizar], index=df.index)\n",
        "        df = pd.concat([df, df_scaled], axis=1)\n",
        "        df.drop(columns=self.columnas_a_normalizar, inplace=True)\n",
        "\n",
        "        return df\n"
      ],
      "metadata": {
        "id": "P-YvfvpAP1w2"
      },
      "execution_count": null,
      "outputs": []
    },
    {
      "cell_type": "code",
      "source": [
        "!pip install optuna\n"
      ],
      "metadata": {
        "colab": {
          "base_uri": "https://localhost:8080/"
        },
        "id": "iJ7NDFZeQ4YI",
        "outputId": "3b8299bd-be9b-4a5e-9409-e3e6a2dda57d"
      },
      "execution_count": null,
      "outputs": [
        {
          "output_type": "stream",
          "name": "stdout",
          "text": [
            "Collecting optuna\n",
            "  Downloading optuna-4.4.0-py3-none-any.whl.metadata (17 kB)\n",
            "Collecting alembic>=1.5.0 (from optuna)\n",
            "  Downloading alembic-1.16.2-py3-none-any.whl.metadata (7.3 kB)\n",
            "Collecting colorlog (from optuna)\n",
            "  Downloading colorlog-6.9.0-py3-none-any.whl.metadata (10 kB)\n",
            "Requirement already satisfied: numpy in /usr/local/lib/python3.11/dist-packages (from optuna) (2.0.2)\n",
            "Requirement already satisfied: packaging>=20.0 in /usr/local/lib/python3.11/dist-packages (from optuna) (24.2)\n",
            "Requirement already satisfied: sqlalchemy>=1.4.2 in /usr/local/lib/python3.11/dist-packages (from optuna) (2.0.41)\n",
            "Requirement already satisfied: tqdm in /usr/local/lib/python3.11/dist-packages (from optuna) (4.67.1)\n",
            "Requirement already satisfied: PyYAML in /usr/local/lib/python3.11/dist-packages (from optuna) (6.0.2)\n",
            "Requirement already satisfied: Mako in /usr/lib/python3/dist-packages (from alembic>=1.5.0->optuna) (1.1.3)\n",
            "Requirement already satisfied: typing-extensions>=4.12 in /usr/local/lib/python3.11/dist-packages (from alembic>=1.5.0->optuna) (4.14.0)\n",
            "Requirement already satisfied: greenlet>=1 in /usr/local/lib/python3.11/dist-packages (from sqlalchemy>=1.4.2->optuna) (3.2.3)\n",
            "Downloading optuna-4.4.0-py3-none-any.whl (395 kB)\n",
            "\u001b[2K   \u001b[90m━━━━━━━━━━━━━━━━━━━━━━━━━━━━━━━━━━━━━━━━\u001b[0m \u001b[32m395.9/395.9 kB\u001b[0m \u001b[31m7.0 MB/s\u001b[0m eta \u001b[36m0:00:00\u001b[0m\n",
            "\u001b[?25hDownloading alembic-1.16.2-py3-none-any.whl (242 kB)\n",
            "\u001b[2K   \u001b[90m━━━━━━━━━━━━━━━━━━━━━━━━━━━━━━━━━━━━━━━━\u001b[0m \u001b[32m242.7/242.7 kB\u001b[0m \u001b[31m21.5 MB/s\u001b[0m eta \u001b[36m0:00:00\u001b[0m\n",
            "\u001b[?25hDownloading colorlog-6.9.0-py3-none-any.whl (11 kB)\n",
            "Installing collected packages: colorlog, alembic, optuna\n",
            "Successfully installed alembic-1.16.2 colorlog-6.9.0 optuna-4.4.0\n"
          ]
        }
      ]
    },
    {
      "cell_type": "code",
      "source": [
        "import pandas as pd\n",
        "import lightgbm as lgb\n",
        "from lightgbm import LGBMClassifier\n",
        "from sklearn.model_selection import train_test_split\n",
        "from sklearn.metrics import accuracy_score, confusion_matrix, ConfusionMatrixDisplay\n",
        "import matplotlib.pyplot as plt\n",
        "\n",
        "# Define best_params manualmente\n",
        "best_params = {\n",
        "    'learning_rate': 0.0372,\n",
        "    'num_leaves': 68,\n",
        "    'max_depth': 10,\n",
        "    'min_child_samples': 19,\n",
        "    'subsample': 0.98,\n",
        "    'colsample_bytree': 0.74,\n",
        "    'objective': 'multiclass',\n",
        "    'num_class': 4,\n",
        "    'class_weight': 'balanced',\n",
        "    'random_state': 42,\n",
        "    'n_jobs': -1,\n",
        "    'n_estimators': 500\n",
        "}\n",
        "\n",
        "#  Xtr, ytr, Xts\n",
        "cols_features = df_train.drop(columns=[\"RENDIMIENTO_GLOBAL_ord\"]).columns\n",
        "Xtr = df_train[cols_features].values\n",
        "ytr = df_train[\"RENDIMIENTO_GLOBAL_ord\"].values - 1  # Ajusta si tu codificación empieza en 1\n",
        "Xts = df_test[cols_features].values\n",
        "\n",
        "# Split validación interna\n",
        "Xtr_train, Xtr_valid, ytr_train, ytr_valid = train_test_split(\n",
        "    Xtr, ytr, test_size=0.2, stratify=ytr, random_state=42\n",
        ")\n",
        "\n",
        "# Entrena modelo con callbacks y logs\n",
        "final_model = LGBMClassifier(**best_params)\n",
        "\n",
        "final_model.fit(\n",
        "    Xtr_train, ytr_train,\n",
        "    eval_set=[(Xtr_valid, ytr_valid)],\n",
        "    callbacks=[\n",
        "        lgb.early_stopping(50),\n",
        "        lgb.log_evaluation(50)\n",
        "    ]\n",
        ")\n",
        "\n",
        "# Accuracy validación\n",
        "valid_preds = final_model.predict(Xtr_valid)\n",
        "val_acc = accuracy_score(ytr_valid, valid_preds)\n",
        "print(f\"Accuracy en validación: {val_acc:.4f}\")\n",
        "\n",
        "# Matriz de confusión\n",
        "cm = confusion_matrix(ytr_valid, valid_preds)\n",
        "disp = ConfusionMatrixDisplay(confusion_matrix=cm)\n",
        "disp.plot(cmap='Blues')\n",
        "plt.title(\"🔍 Matriz de Confusión - Validación\")\n",
        "plt.show()\n",
        "\n",
        "#  Predicciones finales test\n",
        "preds_proba = final_model.predict_proba(Xts)\n",
        "preds_classes = preds_proba.argmax(axis=1) + 1  # Ajusta a codificación 1–4\n",
        "\n",
        "#  Map a etiquetas para Kaggle\n",
        "map_clases = {\n",
        "    1: 'bajo',\n",
        "    2: 'medio-bajo',\n",
        "    3: 'medio-alto',\n",
        "    4: 'alto'\n",
        "}\n",
        "\n",
        "df_submit = pd.DataFrame({\n",
        "    'ID': dts['ID'].values,\n",
        "    'RENDIMIENTO_GLOBAL': [map_clases[c] for c in preds_classes]\n",
        "})\n",
        "\n",
        "df_submit.to_csv('submission_final.csv', index=False)\n",
        "print(df_submit.head())\n",
        "print(\"Archivo listo: submission_final.csv\")\n",
        "\n",
        "\n"
      ],
      "metadata": {
        "colab": {
          "base_uri": "https://localhost:8080/",
          "height": 1000
        },
        "id": "p5lQsFZ0Qi4-",
        "outputId": "239c8924-6f83-4472-ecd3-9e431525e9cf"
      },
      "execution_count": null,
      "outputs": [
        {
          "output_type": "stream",
          "name": "stderr",
          "text": [
            "/usr/local/lib/python3.11/dist-packages/sklearn/utils/deprecation.py:151: FutureWarning: 'force_all_finite' was renamed to 'ensure_all_finite' in 1.6 and will be removed in 1.8.\n",
            "  warnings.warn(\n"
          ]
        },
        {
          "output_type": "stream",
          "name": "stdout",
          "text": [
            "[LightGBM] [Info] Auto-choosing row-wise multi-threading, the overhead of testing was 0.086860 seconds.\n",
            "You can set `force_row_wise=true` to remove the overhead.\n",
            "And if memory is not enough, you can set `force_col_wise=true`.\n",
            "[LightGBM] [Info] Total Bins 1345\n",
            "[LightGBM] [Info] Number of data points in the train set: 554000, number of used features: 67\n",
            "[LightGBM] [Info] Start training from score -1.386294\n",
            "[LightGBM] [Info] Start training from score -1.386294\n",
            "[LightGBM] [Info] Start training from score -1.386294\n",
            "[LightGBM] [Info] Start training from score -1.386294\n",
            "Training until validation scores don't improve for 50 rounds\n",
            "[50]\tvalid_0's multi_logloss: 1.25139\n",
            "[100]\tvalid_0's multi_logloss: 1.23352\n",
            "[150]\tvalid_0's multi_logloss: 1.22734\n",
            "[200]\tvalid_0's multi_logloss: 1.2245\n",
            "[250]\tvalid_0's multi_logloss: 1.22303\n",
            "[300]\tvalid_0's multi_logloss: 1.22219\n",
            "[350]\tvalid_0's multi_logloss: 1.22175\n",
            "[400]\tvalid_0's multi_logloss: 1.22144\n",
            "[450]\tvalid_0's multi_logloss: 1.22127\n",
            "[500]\tvalid_0's multi_logloss: 1.22109\n",
            "Did not meet early stopping. Best iteration is:\n",
            "[498]\tvalid_0's multi_logloss: 1.22109\n"
          ]
        },
        {
          "output_type": "stream",
          "name": "stderr",
          "text": [
            "/usr/local/lib/python3.11/dist-packages/sklearn/utils/deprecation.py:151: FutureWarning: 'force_all_finite' was renamed to 'ensure_all_finite' in 1.6 and will be removed in 1.8.\n",
            "  warnings.warn(\n"
          ]
        },
        {
          "output_type": "stream",
          "name": "stdout",
          "text": [
            "🎯 Accuracy en validación: 0.4231\n"
          ]
        },
        {
          "output_type": "stream",
          "name": "stderr",
          "text": [
            "/usr/local/lib/python3.11/dist-packages/IPython/core/pylabtools.py:151: UserWarning: Glyph 128269 (\\N{LEFT-POINTING MAGNIFYING GLASS}) missing from font(s) DejaVu Sans.\n",
            "  fig.canvas.print_figure(bytes_io, **kw)\n"
          ]
        },
        {
          "output_type": "display_data",
          "data": {
            "text/plain": [
              "<Figure size 640x480 with 2 Axes>"
            ],
            "image/png": "[encoded data removed]"
          },
          "metadata": {}
        },
        {
          "output_type": "stream",
          "name": "stderr",
          "text": [
            "/usr/local/lib/python3.11/dist-packages/sklearn/utils/deprecation.py:151: FutureWarning: 'force_all_finite' was renamed to 'ensure_all_finite' in 1.6 and will be removed in 1.8.\n",
            "  warnings.warn(\n"
          ]
        },
        {
          "output_type": "stream",
          "name": "stdout",
          "text": [
            "       ID RENDIMIENTO_GLOBAL\n",
            "0  550236               bajo\n",
            "1   98545         medio-alto\n",
            "2  499179               alto\n",
            "3  782980               bajo\n",
            "4  785185               bajo\n",
            "✅ Archivo listo: submission_final.csv\n"
          ]
        }
      ]
    },
    {
      "cell_type": "code",
      "source": [],
      "metadata": {
        "id": "cFr3tjVPAK4k"
      },
      "execution_count": null,
      "outputs": []
    }
  ]
}