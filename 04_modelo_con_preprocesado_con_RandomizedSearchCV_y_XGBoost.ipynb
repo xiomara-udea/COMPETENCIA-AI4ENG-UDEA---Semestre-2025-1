{
  "nbformat": 4,
  "nbformat_minor": 0,
  "metadata": {
    "colab": {
      "provenance": [],
      "authorship_tag": "ABX9TyPfLE01vOkM3RzEIUNMDe/e",
      "include_colab_link": true
    },
    "kernelspec": {
      "name": "python3",
      "display_name": "Python 3"
    },
    "language_info": {
      "name": "python"
    }
  },
  "cells": [
    {
      "cell_type": "markdown",
      "metadata": {
        "id": "view-in-github",
        "colab_type": "text"
      },
      "source": [
        "<a href=\"https://colab.research.google.com/github/xiomara-udea/COMPETENCIA-AI4ENG-UDEA---Semestre-2025-1/blob/main/04_modelo_con_preprocesado_con_RandomizedSearchCV_y_XGBoost.ipynb\" target=\"_parent\"><img src=\"https://colab.research.google.com/assets/colab-badge.svg\" alt=\"Open In Colab\"/></a>"
      ]
    },
    {
      "cell_type": "code",
      "execution_count": null,
      "metadata": {
        "colab": {
          "base_uri": "https://localhost:8080/",
          "height": 75
        },
        "id": "8oR0W7Iw7ciQ",
        "outputId": "822e5f8c-4dc0-4f69-aeb9-ab6b2f91bb8f"
      },
      "outputs": [
        {
          "output_type": "display_data",
          "data": {
            "text/plain": [
              "<IPython.core.display.HTML object>"
            ],
            "text/html": [
              "\n",
              "<meta name=\"google-signin-client_id\"\n",
              "      content=\"461673936472-kdjosv61up3ac1ajeuq6qqu72upilmls.apps.googleusercontent.com\"/>\n",
              "<script src=\"https://apis.google.com/js/client:platform.js?onload=google_button_start\"></script>\n",
              "    "
            ]
          },
          "metadata": {}
        },
        {
          "output_type": "stream",
          "name": "stdout",
          "text": [
            "replicating local resources\n"
          ]
        },
        {
          "output_type": "execute_result",
          "data": {
            "text/plain": [
              "<IPython.core.display.HTML object>"
            ],
            "text/html": [
              "<h3>See <a href='https://m5knaekxo6.execute-api.us-west-2.amazonaws.com/dev-v0001/rlxmooc/web/login' target='_blank'>my courses and progress</a></h2>"
            ]
          },
          "metadata": {},
          "execution_count": 1
        }
      ],
      "source": [
        "!wget --no-cache -O init.py -q https://raw.githubusercontent.com/rramosp/ai4eng.v1/main/content/init.py\n",
        "import init; init.init(force_download=False); init.get_weblink()"
      ]
    },
    {
      "cell_type": "code",
      "execution_count": null,
      "metadata": {
        "id": "gp2HXwMM7MVM"
      },
      "outputs": [],
      "source": [
        "import pandas as pd\n",
        "import numpy as np\n",
        "from sklearn.model_selection import cross_val_score\n",
        "import xgboost as xgb"
      ]
    },
    {
      "cell_type": "code",
      "source": [
        "from google.colab import files\n",
        "files.upload()"
      ],
      "metadata": {
        "colab": {
          "base_uri": "https://localhost:8080/",
          "height": 91
        },
        "collapsed": true,
        "id": "s3-I7PMjXdzB",
        "outputId": "1faae3aa-d8a4-4acd-d92e-4c181474efa7"
      },
      "execution_count": null,
      "outputs": [
        {
          "output_type": "display_data",
          "data": {
            "text/plain": [
              "<IPython.core.display.HTML object>"
            ],
            "text/html": [
              "\n",
              "     <input type=\"file\" id=\"files-fe8f94af-a187-42a3-93bb-2afb18ac7e76\" name=\"files[]\" multiple disabled\n",
              "        style=\"border:none\" />\n",
              "     <output id=\"result-fe8f94af-a187-42a3-93bb-2afb18ac7e76\">\n",
              "      Upload widget is only available when the cell has been executed in the\n",
              "      current browser session. Please rerun this cell to enable.\n",
              "      </output>\n",
              "      <script>// Copyright 2017 Google LLC\n",
              "//\n",
              "// Licensed under the Apache License, Version 2.0 (the \"License\");\n",
              "// you may not use this file except in compliance with the License.\n",
              "// You may obtain a copy of the License at\n",
              "//\n",
              "//      http://www.apache.org/licenses/LICENSE-2.0\n",
              "//\n",
              "// Unless required by applicable law or agreed to in writing, software\n",
              "// distributed under the License is distributed on an \"AS IS\" BASIS,\n",
              "// WITHOUT WARRANTIES OR CONDITIONS OF ANY KIND, either express or implied.\n",
              "// See the License for the specific language governing permissions and\n",
              "// limitations under the License.\n",
              "\n",
              "/**\n",
              " * @fileoverview Helpers for google.colab Python module.\n",
              " */\n",
              "(function(scope) {\n",
              "function span(text, styleAttributes = {}) {\n",
              "  const element = document.createElement('span');\n",
              "  element.textContent = text;\n",
              "  for (const key of Object.keys(styleAttributes)) {\n",
              "    element.style[key] = styleAttributes[key];\n",
              "  }\n",
              "  return element;\n",
              "}\n",
              "\n",
              "// Max number of bytes which will be uploaded at a time.\n",
              "const MAX_PAYLOAD_SIZE = 100 * 1024;\n",
              "\n",
              "function _uploadFiles(inputId, outputId) {\n",
              "  const steps = uploadFilesStep(inputId, outputId);\n",
              "  const outputElement = document.getElementById(outputId);\n",
              "  // Cache steps on the outputElement to make it available for the next call\n",
              "  // to uploadFilesContinue from Python.\n",
              "  outputElement.steps = steps;\n",
              "\n",
              "  return _uploadFilesContinue(outputId);\n",
              "}\n",
              "\n",
              "// This is roughly an async generator (not supported in the browser yet),\n",
              "// where there are multiple asynchronous steps and the Python side is going\n",
              "// to poll for completion of each step.\n",
              "// This uses a Promise to block the python side on completion of each step,\n",
              "// then passes the result of the previous step as the input to the next step.\n",
              "function _uploadFilesContinue(outputId) {\n",
              "  const outputElement = document.getElementById(outputId);\n",
              "  const steps = outputElement.steps;\n",
              "\n",
              "  const next = steps.next(outputElement.lastPromiseValue);\n",
              "  return Promise.resolve(next.value.promise).then((value) => {\n",
              "    // Cache the last promise value to make it available to the next\n",
              "    // step of the generator.\n",
              "    outputElement.lastPromiseValue = value;\n",
              "    return next.value.response;\n",
              "  });\n",
              "}\n",
              "\n",
              "/**\n",
              " * Generator function which is called between each async step of the upload\n",
              " * process.\n",
              " * @param {string} inputId Element ID of the input file picker element.\n",
              " * @param {string} outputId Element ID of the output display.\n",
              " * @return {!Iterable<!Object>} Iterable of next steps.\n",
              " */\n",
              "function* uploadFilesStep(inputId, outputId) {\n",
              "  const inputElement = document.getElementById(inputId);\n",
              "  inputElement.disabled = false;\n",
              "\n",
              "  const outputElement = document.getElementById(outputId);\n",
              "  outputElement.innerHTML = '';\n",
              "\n",
              "  const pickedPromise = new Promise((resolve) => {\n",
              "    inputElement.addEventListener('change', (e) => {\n",
              "      resolve(e.target.files);\n",
              "    });\n",
              "  });\n",
              "\n",
              "  const cancel = document.createElement('button');\n",
              "  inputElement.parentElement.appendChild(cancel);\n",
              "  cancel.textContent = 'Cancel upload';\n",
              "  const cancelPromise = new Promise((resolve) => {\n",
              "    cancel.onclick = () => {\n",
              "      resolve(null);\n",
              "    };\n",
              "  });\n",
              "\n",
              "  // Wait for the user to pick the files.\n",
              "  const files = yield {\n",
              "    promise: Promise.race([pickedPromise, cancelPromise]),\n",
              "    response: {\n",
              "      action: 'starting',\n",
              "    }\n",
              "  };\n",
              "\n",
              "  cancel.remove();\n",
              "\n",
              "  // Disable the input element since further picks are not allowed.\n",
              "  inputElement.disabled = true;\n",
              "\n",
              "  if (!files) {\n",
              "    return {\n",
              "      response: {\n",
              "        action: 'complete',\n",
              "      }\n",
              "    };\n",
              "  }\n",
              "\n",
              "  for (const file of files) {\n",
              "    const li = document.createElement('li');\n",
              "    li.append(span(file.name, {fontWeight: 'bold'}));\n",
              "    li.append(span(\n",
              "        `(${file.type || 'n/a'}) - ${file.size} bytes, ` +\n",
              "        `last modified: ${\n",
              "            file.lastModifiedDate ? file.lastModifiedDate.toLocaleDateString() :\n",
              "                                    'n/a'} - `));\n",
              "    const percent = span('0% done');\n",
              "    li.appendChild(percent);\n",
              "\n",
              "    outputElement.appendChild(li);\n",
              "\n",
              "    const fileDataPromise = new Promise((resolve) => {\n",
              "      const reader = new FileReader();\n",
              "      reader.onload = (e) => {\n",
              "        resolve(e.target.result);\n",
              "      };\n",
              "      reader.readAsArrayBuffer(file);\n",
              "    });\n",
              "    // Wait for the data to be ready.\n",
              "    let fileData = yield {\n",
              "      promise: fileDataPromise,\n",
              "      response: {\n",
              "        action: 'continue',\n",
              "      }\n",
              "    };\n",
              "\n",
              "    // Use a chunked sending to avoid message size limits. See b/62115660.\n",
              "    let position = 0;\n",
              "    do {\n",
              "      const length = Math.min(fileData.byteLength - position, MAX_PAYLOAD_SIZE);\n",
              "      const chunk = new Uint8Array(fileData, position, length);\n",
              "      position += length;\n",
              "\n",
              "      const base64 = btoa(String.fromCharCode.apply(null, chunk));\n",
              "      yield {\n",
              "        response: {\n",
              "          action: 'append',\n",
              "          file: file.name,\n",
              "          data: base64,\n",
              "        },\n",
              "      };\n",
              "\n",
              "      let percentDone = fileData.byteLength === 0 ?\n",
              "          100 :\n",
              "          Math.round((position / fileData.byteLength) * 100);\n",
              "      percent.textContent = `${percentDone}% done`;\n",
              "\n",
              "    } while (position < fileData.byteLength);\n",
              "  }\n",
              "\n",
              "  // All done.\n",
              "  yield {\n",
              "    response: {\n",
              "      action: 'complete',\n",
              "    }\n",
              "  };\n",
              "}\n",
              "\n",
              "scope.google = scope.google || {};\n",
              "scope.google.colab = scope.google.colab || {};\n",
              "scope.google.colab._files = {\n",
              "  _uploadFiles,\n",
              "  _uploadFilesContinue,\n",
              "};\n",
              "})(self);\n",
              "</script> "
            ]
          },
          "metadata": {}
        },
        {
          "output_type": "stream",
          "name": "stdout",
          "text": [
            "Saving kaggle.json to kaggle.json\n"
          ]
        },
        {
          "output_type": "execute_result",
          "data": {
            "text/plain": [
              "{'kaggle.json': b'{\"username\":\"xiomaraperezudea\",\"key\":\"c7779ed01610d092aea8f2d5f696098f\"}'}"
            ]
          },
          "metadata": {},
          "execution_count": 3
        }
      ]
    },
    {
      "cell_type": "code",
      "source": [
        "!mkdir -p ~/.kaggle\n",
        "!cp kaggle.json ~/.kaggle/\n",
        "!chmod 600 ~/.kaggle/kaggle.json"
      ],
      "metadata": {
        "id": "f-RuO9mxTZFg"
      },
      "execution_count": null,
      "outputs": []
    },
    {
      "cell_type": "code",
      "execution_count": null,
      "metadata": {
        "id": "nSz7rKIOjhsy",
        "colab": {
          "base_uri": "https://localhost:8080/"
        },
        "collapsed": true,
        "outputId": "8b14dfb4-9177-4d0f-96d7-c6265121e132"
      },
      "outputs": [
        {
          "output_type": "stream",
          "name": "stdout",
          "text": [
            "Downloading udea-ai-4-eng-20251-pruebas-saber-pro-colombia.zip to /content\n",
            "\r  0% 0.00/29.9M [00:00<?, ?B/s]\n",
            "\r100% 29.9M/29.9M [00:00<00:00, 684MB/s]\n"
          ]
        }
      ],
      "source": [
        "!kaggle competitions download -c udea-ai-4-eng-20251-pruebas-saber-pro-colombia"
      ]
    },
    {
      "cell_type": "code",
      "source": [
        "!unzip -l udea-ai-4-eng-20251-pruebas-saber-pro-colombia.zip"
      ],
      "metadata": {
        "colab": {
          "base_uri": "https://localhost:8080/"
        },
        "id": "xg2BLg1iVJyy",
        "outputId": "c580a744-439d-4f20-a16f-43e76c679091",
        "collapsed": true
      },
      "execution_count": null,
      "outputs": [
        {
          "output_type": "stream",
          "name": "stdout",
          "text": [
            "Archive:  udea-ai-4-eng-20251-pruebas-saber-pro-colombia.zip\n",
            "  Length      Date    Time    Name\n",
            "---------  ---------- -----   ----\n",
            "  4716673  2025-03-25 16:54   submission_example.csv\n",
            " 59185250  2025-03-25 16:54   test.csv\n",
            "143732449  2025-03-25 16:54   train.csv\n",
            "---------                     -------\n",
            "207634372                     3 files\n"
          ]
        }
      ]
    },
    {
      "cell_type": "code",
      "source": [
        "!unzip udea-ai-4-eng-20251-pruebas-saber-pro-colombia.zip"
      ],
      "metadata": {
        "colab": {
          "base_uri": "https://localhost:8080/"
        },
        "id": "XdMsFB5OVcb9",
        "outputId": "cdf8a1d1-0fa6-4ee4-ed1a-6e8789ffff55",
        "collapsed": true
      },
      "execution_count": null,
      "outputs": [
        {
          "output_type": "stream",
          "name": "stdout",
          "text": [
            "Archive:  udea-ai-4-eng-20251-pruebas-saber-pro-colombia.zip\n",
            "  inflating: submission_example.csv  \n",
            "  inflating: test.csv                \n",
            "  inflating: train.csv               \n"
          ]
        }
      ]
    },
    {
      "cell_type": "code",
      "execution_count": null,
      "metadata": {
        "colab": {
          "base_uri": "https://localhost:8080/"
        },
        "id": "MxQuDByhqkvP",
        "outputId": "2a8bf073-eca4-49a2-fe3f-fc3ad2d28534",
        "collapsed": true
      },
      "outputs": [
        {
          "output_type": "stream",
          "name": "stdout",
          "text": [
            "(692500, 21)\n",
            "(296786, 20)\n"
          ]
        }
      ],
      "source": [
        "dtr = pd.read_csv(\"train.csv\")\n",
        "print (dtr.shape)\n",
        "dts = pd.read_csv(\"test.csv\")\n",
        "print (dts.shape)"
      ]
    },
    {
      "cell_type": "code",
      "source": [
        "from sklearn.preprocessing import MinMaxScaler\n",
        "import numpy as np\n",
        "import pandas as pd\n",
        "\n",
        "class SaberProCleaner:\n",
        "    def __init__(self):\n",
        "        self.scaler = MinMaxScaler()\n",
        "        self.columnas_onehot = ['PERIODO', 'ESTU_PRGM_DEPARTAMENTO', 'AREA_ACADEMICA']\n",
        "        self.columns_after_onehot = None\n",
        "        self.columnas_a_normalizar = ['ESTU_VALORMATRICULAUNIVERSIDAD_num', 'ESTU_HORASSEMANATRABAJA_num']\n",
        "\n",
        "        self.mapa_valormatricula = {\n",
        "            'Menos de 500 mil': 250_000,\n",
        "            'Entre 500 mil y menos de 1 millón': 750_000,\n",
        "            'Entre 1 millón y menos de 2.5 millones': 1_750_000,\n",
        "            'Entre 2.5 millones y menos de 4 millones': 3_250_000,\n",
        "            'Entre 4 millones y menos de 5.5 millones': 4_750_000,\n",
        "            'Entre 5.5 millones y menos de 7 millones': 6_250_000,\n",
        "            'Más de 7 millones': 8_000_000,\n",
        "            'No pagó matrícula': 0\n",
        "        }\n",
        "\n",
        "        self.mapa_horas_trabajo = {\n",
        "            '0': 0,\n",
        "            'Menos de 10 horas': 5,\n",
        "            'Entre 10 y 20 horas': 15,\n",
        "            'Entre 21 y 30 horas': 25,\n",
        "            'Más de 30 horas': 35\n",
        "        }\n",
        "\n",
        "        self.binarios_bool = {\n",
        "            'FAMI_TIENEINTERNET': {'Si': True, 'No': False},\n",
        "            'FAMI_TIENELAVADORA': {'Si': True, 'No': False},\n",
        "            'FAMI_TIENEAUTOMOVIL': {'Si': True, 'No': False},\n",
        "            'ESTU_PRIVADO_LIBERTAD': {'S': True, 'N': False},\n",
        "            'ESTU_PAGOMATRICULAPROPIO': {'Si': True, 'No': False},\n",
        "            'FAMI_TIENECOMPUTADOR': {'Si': True, 'No': False}\n",
        "        }\n",
        "\n",
        "        self.educacion_orden = {\n",
        "            'Ninguno': 1,\n",
        "            'Primaria incompleta': 2,\n",
        "            'Primaria completa': 3,\n",
        "            'Secundaria (Bachillerato) incompleta': 4,\n",
        "            'Secundaria (Bachillerato) completa': 5,\n",
        "            'Técnica o tecnológica incompleta': 6,\n",
        "            'Técnica o tecnológica completa': 7,\n",
        "            'Educación profesional incompleta': 8,\n",
        "            'Educación profesional completa': 9,\n",
        "            'Postgrado': 10\n",
        "        }\n",
        "\n",
        "        self.rendimiento_orden = {\n",
        "            'bajo': 1,\n",
        "            'medio-bajo': 2,\n",
        "            'medio-alto': 3,\n",
        "            'alto': 4\n",
        "        }\n",
        "\n",
        "    def limpiar_programa(self, texto):\n",
        "        if pd.isnull(texto): return texto\n",
        "        texto = texto.upper().strip()\n",
        "        texto = (texto.replace('Á','A').replace('É','E').replace('Í','I')\n",
        "                      .replace('Ó','O').replace('Ú','U').replace('Ñ','N')\n",
        "                      .replace('¿','').replace('¡','').replace('.', '')\n",
        "                      .replace('-', ' ').replace('_', ' '))\n",
        "        while '  ' in texto:\n",
        "            texto = texto.replace('  ', ' ')\n",
        "        return texto\n",
        "\n",
        "    def clasificar_area(self, programa):\n",
        "        programa = programa.upper()\n",
        "        if any(p in programa for p in ['INGENIERIA', 'INGENIERÍA']):\n",
        "            return 'Ingenierías'\n",
        "        elif any(p in programa for p in ['MEDICINA', 'ENFERMERIA', 'SALUD', 'FISIOTERAPIA', 'ODONTOLOGIA', 'NUTRICION', 'TERAPIA']):\n",
        "            return 'Salud'\n",
        "        elif any(p in programa for p in ['DERECHO']):\n",
        "            return 'Derecho'\n",
        "        elif any(p in programa for p in ['ADMINISTRACION', 'CONTADURIA', 'ECONOMIA']):\n",
        "            return 'Económico-administrativas'\n",
        "        elif any(p in programa for p in ['BIOLOGIA', 'FISICA', 'QUIMICA', 'MATEMATICA']):\n",
        "            return 'Ciencias Básicas'\n",
        "        elif any(p in programa for p in ['PSICOLOGIA', 'SOCIOLOGIA', 'TRABAJO SOCIAL']):\n",
        "            return 'Ciencias Sociales y Humanas'\n",
        "        elif any(p in programa for p in ['ARTES', 'DISEÑO', 'MUSICA']):\n",
        "            return 'Artes'\n",
        "        elif any(p in programa for p in ['LICENCIATURA', 'EDUCACION']):\n",
        "            return 'Educación'\n",
        "        elif any(p in programa for p in ['COMUNICACION']):\n",
        "            return 'Comunicación'\n",
        "        elif any(p in programa for p in ['AGRONOMIA', 'VETERINARIA']):\n",
        "            return 'Agropecuarias y Medio Ambiente'\n",
        "        else:\n",
        "            return 'Otras'\n",
        "\n",
        "    def fit_transform(self, df):\n",
        "        return self._transform(df.copy(), fit_scaler=True)\n",
        "\n",
        "    def transform(self, df):\n",
        "        return self._transform(df.copy(), fit_scaler=False)\n",
        "\n",
        "    def _transform(self, df, fit_scaler):\n",
        "        # 1. Drop columna duplicada\n",
        "        df = df.drop(columns=['FAMI_TIENEINTERNET.1'], errors='ignore')\n",
        "\n",
        "        # 2. Mapeo ordinal\n",
        "        df['ESTU_VALORMATRICULAUNIVERSIDAD_num'] = df['ESTU_VALORMATRICULAUNIVERSIDAD'].map(self.mapa_valormatricula)\n",
        "        df['ESTU_HORASSEMANATRABAJA_num'] = df['ESTU_HORASSEMANATRABAJA'].map(self.mapa_horas_trabajo)\n",
        "        df['ESTU_VALORMATRICULAUNIVERSIDAD_num'] = df['ESTU_VALORMATRICULAUNIVERSIDAD_num'].fillna(df['ESTU_VALORMATRICULAUNIVERSIDAD_num'].mean())\n",
        "        df['ESTU_HORASSEMANATRABAJA_num'] = df['ESTU_HORASSEMANATRABAJA_num'].fillna(df['ESTU_HORASSEMANATRABAJA_num'].mean())\n",
        "\n",
        "        # 3. Relleno por ffill\n",
        "        columnas_ffill = [\n",
        "            'FAMI_ESTRATOVIVIENDA',\n",
        "            'FAMI_TIENEINTERNET',\n",
        "            'FAMI_EDUCACIONPADRE',\n",
        "            'FAMI_TIENELAVADORA',\n",
        "            'FAMI_TIENEAUTOMOVIL',\n",
        "            'ESTU_PAGOMATRICULAPROPIO',\n",
        "            'FAMI_TIENECOMPUTADOR',\n",
        "            'FAMI_EDUCACIONMADRE'\n",
        "        ]\n",
        "        for col in columnas_ffill:\n",
        "            if col in df.columns:\n",
        "                df[col] = df[col].ffill()\n",
        "\n",
        "        # 4. Programa y área\n",
        "        df['PROGRAMA_LIMPIO'] = df['ESTU_PRGM_ACADEMICO'].apply(self.limpiar_programa)\n",
        "        df['AREA_ACADEMICA'] = df['PROGRAMA_LIMPIO'].apply(self.clasificar_area)\n",
        "        df.drop(columns=['ESTU_PRGM_ACADEMICO', 'PROGRAMA_LIMPIO'], inplace=True)\n",
        "\n",
        "        # 5. Mapear booleanos\n",
        "        for col, mapping in self.binarios_bool.items():\n",
        "            if col in df.columns:\n",
        "                df[col] = df[col].map(mapping).astype(bool)\n",
        "\n",
        "        # 6. Codificación ordinal\n",
        "        for col in ['FAMI_EDUCACIONPADRE', 'FAMI_EDUCACIONMADRE']:\n",
        "            df[col] = df[col].replace(['Ninguno', 'No sabe', 'No Aplica'], np.nan).ffill()\n",
        "            df[col + '_ord'] = df[col].map(self.educacion_orden)\n",
        "\n",
        "        if 'RENDIMIENTO_GLOBAL' in df.columns:\n",
        "            df['RENDIMIENTO_GLOBAL_ord'] = df['RENDIMIENTO_GLOBAL'].map(self.rendimiento_orden)\n",
        "            df.drop(columns=['RENDIMIENTO_GLOBAL'], inplace=True)\n",
        "\n",
        "        df.drop(columns=[\n",
        "            'FAMI_ESTRATOVIVIENDA',\n",
        "            'FAMI_EDUCACIONPADRE',\n",
        "            'FAMI_EDUCACIONMADRE',\n",
        "            'ESTU_VALORMATRICULAUNIVERSIDAD',\n",
        "            'ESTU_HORASSEMANATRABAJA'\n",
        "        ], errors='ignore', inplace=True)\n",
        "\n",
        "        # 7. One-hot\n",
        "        df = pd.get_dummies(df, columns=self.columnas_onehot, dtype=bool)\n",
        "\n",
        "        # Guardar columnas para usar en test\n",
        "        if fit_scaler:\n",
        "            self.columns_after_onehot = df.columns.tolist()\n",
        "\n",
        "        # Asegurar columnas iguales en test\n",
        "        if not fit_scaler:\n",
        "            for col in self.columns_after_onehot:\n",
        "                if col not in df:\n",
        "                    df[col] = False\n",
        "            df = df[self.columns_after_onehot]\n",
        "\n",
        "        # 8. Escalar\n",
        "        scaled = self.scaler.fit_transform(df[self.columnas_a_normalizar]) if fit_scaler else self.scaler.transform(df[self.columnas_a_normalizar])\n",
        "        df_scaled = pd.DataFrame(scaled, columns=[c + '_scaled' for c in self.columnas_a_normalizar], index=df.index)\n",
        "        df = pd.concat([df, df_scaled], axis=1)\n",
        "        df.drop(columns=self.columnas_a_normalizar, inplace=True)\n",
        "\n",
        "        return df\n"
      ],
      "metadata": {
        "id": "a5p9n7HR_AcF"
      },
      "execution_count": null,
      "outputs": []
    },
    {
      "cell_type": "code",
      "source": [
        "# Cargar y limpiar los datos\n",
        "\n",
        "# Entrenamiento\n",
        "cleaner = SaberProCleaner()\n",
        "dtr_limpio = cleaner.fit_transform(dtr)\n",
        "\n",
        "# Prueba\n",
        "dts_limpio = cleaner.transform(dts)\n",
        "\n"
      ],
      "metadata": {
        "id": "5G3zvf1K_Bo9"
      },
      "execution_count": null,
      "outputs": []
    },
    {
      "cell_type": "code",
      "source": [
        "# =========================================\n",
        "# 3. SEPARAR FEATURES Y ETIQUETAS\n",
        "# =========================================\n",
        "Xtr = dtr_limpio.drop(columns=[\"RENDIMIENTO_GLOBAL_ord\"]).values\n",
        "ytr = dtr_limpio[\"RENDIMIENTO_GLOBAL_ord\"].values\n",
        "Xts = dts_limpio.values\n",
        "\n",
        "# Ajustar etiquetas para XGBoost (de 1–4 → 0–3)\n",
        "ytr_xgb = ytr - 1\n"
      ],
      "metadata": {
        "id": "9n2YcrL2Ht87"
      },
      "execution_count": null,
      "outputs": []
    },
    {
      "cell_type": "code",
      "source": [
        "# =========================================\n",
        "# 4. MODELO XGBOOST + CROSS VALIDATION\n",
        "# =========================================\n",
        "xgb_model = xgb.XGBClassifier(\n",
        "    objective='multi:softmax',\n",
        "    num_class=4,\n",
        "    eval_metric='mlogloss',\n",
        "    random_state=42\n",
        ")\n",
        "\n",
        "\n",
        "scores = cross_val_score(xgb_model, Xtr, ytr_xgb, cv=5, scoring='accuracy')\n",
        "print(\"Accuracy promedio (XGBoost, CV 5):\", scores.mean())\n"
      ],
      "metadata": {
        "colab": {
          "base_uri": "https://localhost:8080/"
        },
        "id": "aV34TMwJQEIU",
        "outputId": "72d33c70-db65-4cde-adc5-174333277f74"
      },
      "execution_count": null,
      "outputs": [
        {
          "output_type": "stream",
          "name": "stdout",
          "text": [
            "Accuracy promedio (XGBoost, CV 5): 0.42039711191335744\n"
          ]
        }
      ]
    },
    {
      "cell_type": "code",
      "source": [
        "# =========================================\n",
        "# 5. ENTRENAMIENTO FINAL Y\n",
        "\n",
        "# =========================================\n",
        "xgb_model.fit(Xtr, ytr_xgb)\n",
        "preds_ts = xgb_model.predict(Xts)\n",
        "preds_ts = preds_ts + 1  # Volver a rango 1-4\n",
        "\n",
        "# =========================================\n",
        "# 6. CONVERTIR PREDICCIONES A TEXTO\n",
        "# =========================================\n",
        "inv_rendimiento_orden = {\n",
        "    1: 'bajo',\n",
        "    2: 'medio-bajo',\n",
        "    3: 'medio-alto',\n",
        "    4: 'alto'\n",
        "}\n",
        "preds_ts_labels = [inv_rendimiento_orden[p] for p in preds_ts]\n",
        "\n",
        "# =========================================\n",
        "# 7. CREAR ARCHIVO DE SUBMISSION\n",
        "# =========================================\n",
        "submission = pd.DataFrame({\n",
        "    'ID': dts['ID'],\n",
        "    'RENDIMIENTO_GLOBAL': preds_ts_labels\n",
        "})\n",
        "submission.to_csv(\"submission_xgboost.csv\", index=False)\n",
        "submission.head()"
      ],
      "metadata": {
        "id": "pt8xA4e6Vrhk"
      },
      "execution_count": null,
      "outputs": []
    }
  ]
}